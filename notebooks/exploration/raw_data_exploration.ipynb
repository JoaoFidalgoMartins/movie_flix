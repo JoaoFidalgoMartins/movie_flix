{
 "cells": [
  {
   "cell_type": "code",
   "execution_count": 1,
   "id": "7ffa77a1-7ddd-4055-853f-d426488f9072",
   "metadata": {},
   "outputs": [],
   "source": [
    "import os\n",
    "DIRECTORY_PATH = '/'\n",
    "os.chdir(DIRECTORY_PATH)"
   ]
  },
  {
   "cell_type": "markdown",
   "id": "4c133b33-1573-451e-8cbb-f6919dbb74c7",
   "metadata": {},
   "source": [
    "# Imports"
   ]
  },
  {
   "cell_type": "code",
   "execution_count": 74,
   "id": "10a57d4d-cb01-4e24-80e5-8b222a6bbe8c",
   "metadata": {},
   "outputs": [],
   "source": [
    "from utils.load_datasets import load_datasets\n",
    "from utils.data_utils import extract_year, split_movie_genres\n",
    "from matplotlib import pyplot as plt\n",
    "import seaborn as sns"
   ]
  },
  {
   "cell_type": "code",
   "execution_count": 22,
   "id": "868f55d7-9606-4533-ba99-2c4c5c12f771",
   "metadata": {},
   "outputs": [],
   "source": [
    "sns.set()"
   ]
  },
  {
   "cell_type": "markdown",
   "id": "8aa51c5b-b56e-440c-a078-3ac9b179359e",
   "metadata": {},
   "source": [
    "# Load Data"
   ]
  },
  {
   "cell_type": "code",
   "execution_count": 3,
   "id": "7719fbc9-12aa-4a83-bd8b-c228ad7d6270",
   "metadata": {},
   "outputs": [],
   "source": [
    "df_movies, df_ratings, df_links = load_datasets()"
   ]
  },
  {
   "cell_type": "markdown",
   "id": "2bc819e1-7fe4-48a7-96d4-82b57ddb3321",
   "metadata": {},
   "source": [
    "# Datasets"
   ]
  },
  {
   "cell_type": "code",
   "execution_count": 5,
   "id": "07c1eff2-696a-436a-b19c-ca07ca46f98a",
   "metadata": {},
   "outputs": [
    {
     "data": {
      "text/html": [
       "<div>\n",
       "<style scoped>\n",
       "    .dataframe tbody tr th:only-of-type {\n",
       "        vertical-align: middle;\n",
       "    }\n",
       "\n",
       "    .dataframe tbody tr th {\n",
       "        vertical-align: top;\n",
       "    }\n",
       "\n",
       "    .dataframe thead th {\n",
       "        text-align: right;\n",
       "    }\n",
       "</style>\n",
       "<table border=\"1\" class=\"dataframe\">\n",
       "  <thead>\n",
       "    <tr style=\"text-align: right;\">\n",
       "      <th></th>\n",
       "      <th>movie_id</th>\n",
       "      <th>title</th>\n",
       "      <th>genres</th>\n",
       "    </tr>\n",
       "  </thead>\n",
       "  <tbody>\n",
       "    <tr>\n",
       "      <th>0</th>\n",
       "      <td>1</td>\n",
       "      <td>Toy Story (1995)</td>\n",
       "      <td>Adventure|Animation|Children|Comedy|Fantasy</td>\n",
       "    </tr>\n",
       "    <tr>\n",
       "      <th>1</th>\n",
       "      <td>2</td>\n",
       "      <td>Jumanji (1995)</td>\n",
       "      <td>Adventure|Children|Fantasy</td>\n",
       "    </tr>\n",
       "    <tr>\n",
       "      <th>2</th>\n",
       "      <td>3</td>\n",
       "      <td>Grumpier Old Men (1995)</td>\n",
       "      <td>Comedy|Romance</td>\n",
       "    </tr>\n",
       "    <tr>\n",
       "      <th>3</th>\n",
       "      <td>4</td>\n",
       "      <td>Waiting to Exhale (1995)</td>\n",
       "      <td>Comedy|Drama|Romance</td>\n",
       "    </tr>\n",
       "    <tr>\n",
       "      <th>4</th>\n",
       "      <td>5</td>\n",
       "      <td>Father of the Bride Part II (1995)</td>\n",
       "      <td>Comedy</td>\n",
       "    </tr>\n",
       "  </tbody>\n",
       "</table>\n",
       "</div>"
      ],
      "text/plain": [
       "   movie_id                               title  \\\n",
       "0         1                    Toy Story (1995)   \n",
       "1         2                      Jumanji (1995)   \n",
       "2         3             Grumpier Old Men (1995)   \n",
       "3         4            Waiting to Exhale (1995)   \n",
       "4         5  Father of the Bride Part II (1995)   \n",
       "\n",
       "                                        genres  \n",
       "0  Adventure|Animation|Children|Comedy|Fantasy  \n",
       "1                   Adventure|Children|Fantasy  \n",
       "2                               Comedy|Romance  \n",
       "3                         Comedy|Drama|Romance  \n",
       "4                                       Comedy  "
      ]
     },
     "execution_count": 5,
     "metadata": {},
     "output_type": "execute_result"
    }
   ],
   "source": [
    "df_movies.head()"
   ]
  },
  {
   "cell_type": "code",
   "execution_count": 7,
   "id": "2ba776ba-266b-4601-9439-ee641d608504",
   "metadata": {},
   "outputs": [
    {
     "data": {
      "text/html": [
       "<div>\n",
       "<style scoped>\n",
       "    .dataframe tbody tr th:only-of-type {\n",
       "        vertical-align: middle;\n",
       "    }\n",
       "\n",
       "    .dataframe tbody tr th {\n",
       "        vertical-align: top;\n",
       "    }\n",
       "\n",
       "    .dataframe thead th {\n",
       "        text-align: right;\n",
       "    }\n",
       "</style>\n",
       "<table border=\"1\" class=\"dataframe\">\n",
       "  <thead>\n",
       "    <tr style=\"text-align: right;\">\n",
       "      <th></th>\n",
       "      <th>user_id</th>\n",
       "      <th>movie_id</th>\n",
       "      <th>rating</th>\n",
       "      <th>timestamp</th>\n",
       "    </tr>\n",
       "  </thead>\n",
       "  <tbody>\n",
       "    <tr>\n",
       "      <th>0</th>\n",
       "      <td>1</td>\n",
       "      <td>1</td>\n",
       "      <td>4.0</td>\n",
       "      <td>964982703</td>\n",
       "    </tr>\n",
       "    <tr>\n",
       "      <th>1</th>\n",
       "      <td>1</td>\n",
       "      <td>3</td>\n",
       "      <td>4.0</td>\n",
       "      <td>964981247</td>\n",
       "    </tr>\n",
       "    <tr>\n",
       "      <th>2</th>\n",
       "      <td>1</td>\n",
       "      <td>6</td>\n",
       "      <td>4.0</td>\n",
       "      <td>964982224</td>\n",
       "    </tr>\n",
       "    <tr>\n",
       "      <th>3</th>\n",
       "      <td>1</td>\n",
       "      <td>47</td>\n",
       "      <td>5.0</td>\n",
       "      <td>964983815</td>\n",
       "    </tr>\n",
       "    <tr>\n",
       "      <th>4</th>\n",
       "      <td>1</td>\n",
       "      <td>50</td>\n",
       "      <td>5.0</td>\n",
       "      <td>964982931</td>\n",
       "    </tr>\n",
       "  </tbody>\n",
       "</table>\n",
       "</div>"
      ],
      "text/plain": [
       "   user_id  movie_id  rating  timestamp\n",
       "0        1         1     4.0  964982703\n",
       "1        1         3     4.0  964981247\n",
       "2        1         6     4.0  964982224\n",
       "3        1        47     5.0  964983815\n",
       "4        1        50     5.0  964982931"
      ]
     },
     "execution_count": 7,
     "metadata": {},
     "output_type": "execute_result"
    }
   ],
   "source": [
    "df_ratings.head()"
   ]
  },
  {
   "cell_type": "code",
   "execution_count": 8,
   "id": "9e4a8d15-3e7e-4bf7-92d4-0e16b7821df8",
   "metadata": {},
   "outputs": [
    {
     "data": {
      "text/html": [
       "<div>\n",
       "<style scoped>\n",
       "    .dataframe tbody tr th:only-of-type {\n",
       "        vertical-align: middle;\n",
       "    }\n",
       "\n",
       "    .dataframe tbody tr th {\n",
       "        vertical-align: top;\n",
       "    }\n",
       "\n",
       "    .dataframe thead th {\n",
       "        text-align: right;\n",
       "    }\n",
       "</style>\n",
       "<table border=\"1\" class=\"dataframe\">\n",
       "  <thead>\n",
       "    <tr style=\"text-align: right;\">\n",
       "      <th></th>\n",
       "      <th>movie_id</th>\n",
       "      <th>tmdb_id</th>\n",
       "    </tr>\n",
       "  </thead>\n",
       "  <tbody>\n",
       "    <tr>\n",
       "      <th>0</th>\n",
       "      <td>1</td>\n",
       "      <td>862.0</td>\n",
       "    </tr>\n",
       "    <tr>\n",
       "      <th>1</th>\n",
       "      <td>2</td>\n",
       "      <td>8844.0</td>\n",
       "    </tr>\n",
       "    <tr>\n",
       "      <th>2</th>\n",
       "      <td>3</td>\n",
       "      <td>15602.0</td>\n",
       "    </tr>\n",
       "    <tr>\n",
       "      <th>3</th>\n",
       "      <td>4</td>\n",
       "      <td>31357.0</td>\n",
       "    </tr>\n",
       "    <tr>\n",
       "      <th>4</th>\n",
       "      <td>5</td>\n",
       "      <td>11862.0</td>\n",
       "    </tr>\n",
       "  </tbody>\n",
       "</table>\n",
       "</div>"
      ],
      "text/plain": [
       "   movie_id  tmdb_id\n",
       "0         1    862.0\n",
       "1         2   8844.0\n",
       "2         3  15602.0\n",
       "3         4  31357.0\n",
       "4         5  11862.0"
      ]
     },
     "execution_count": 8,
     "metadata": {},
     "output_type": "execute_result"
    }
   ],
   "source": [
    "df_links.head()"
   ]
  },
  {
   "cell_type": "markdown",
   "id": "9f4af2cd-81a6-49e0-be8a-0dcb0461715d",
   "metadata": {},
   "source": [
    "## Counts"
   ]
  },
  {
   "cell_type": "code",
   "execution_count": 19,
   "id": "0a818a4d-a5ec-4e1b-a12d-60a9d3f5b5c5",
   "metadata": {},
   "outputs": [
    {
     "name": "stdout",
     "output_type": "stream",
     "text": [
      "# Unique Users  : 610\n",
      "# Unique Movies : 9724\n",
      "# Ratings       : 100836\n"
     ]
    }
   ],
   "source": [
    "print('# Unique Users  :', df_ratings.user_id.nunique())\n",
    "print('# Unique Movies :', df_ratings.movie_id.nunique())\n",
    "print('# Ratings       :', df_ratings.rating.count())"
   ]
  },
  {
   "cell_type": "markdown",
   "id": "f51e57bc-4f62-4e47-9439-d56cb67c685f",
   "metadata": {},
   "source": [
    "## Ratings Distribution"
   ]
  },
  {
   "cell_type": "code",
   "execution_count": 48,
   "id": "b2940169-3b8b-4fd7-abd8-f462e54aad36",
   "metadata": {},
   "outputs": [
    {
     "data": {
      "image/png": "[encoded data removed]",
      "text/plain": [
       "<Figure size 640x480 with 1 Axes>"
      ]
     },
     "metadata": {},
     "output_type": "display_data"
    }
   ],
   "source": [
    "df_ratings.groupby('rating').agg({'user_id': 'count'}).plot.barh(legend=False)\n",
    "plt.title('# Users by Rating')\n",
    "plt.xlabel('# Users')\n",
    "plt.ylabel('Rating')\n",
    "plt.show()"
   ]
  },
  {
   "cell_type": "markdown",
   "id": "a22b9295-a00c-4573-acd6-8d13c7fd6596",
   "metadata": {},
   "source": [
    "## Check Nulls"
   ]
  },
  {
   "cell_type": "code",
   "execution_count": 49,
   "id": "2979b038-fe65-4b02-b4da-6b2387e1700d",
   "metadata": {},
   "outputs": [
    {
     "data": {
      "text/plain": [
       "movie_id    0\n",
       "title       0\n",
       "genres      0\n",
       "dtype: int64"
      ]
     },
     "execution_count": 49,
     "metadata": {},
     "output_type": "execute_result"
    }
   ],
   "source": [
    "df_movies.isna().sum()"
   ]
  },
  {
   "cell_type": "code",
   "execution_count": 50,
   "id": "750261d4-68e8-4a8f-bddb-6b92b15197bc",
   "metadata": {},
   "outputs": [
    {
     "data": {
      "text/plain": [
       "user_id      0\n",
       "movie_id     0\n",
       "rating       0\n",
       "timestamp    0\n",
       "dtype: int64"
      ]
     },
     "execution_count": 50,
     "metadata": {},
     "output_type": "execute_result"
    }
   ],
   "source": [
    "df_ratings.isna().sum()"
   ]
  },
  {
   "cell_type": "code",
   "execution_count": 51,
   "id": "0594a6c1-331e-4b46-ab32-37d91d2c100e",
   "metadata": {},
   "outputs": [
    {
     "data": {
      "text/plain": [
       "movie_id    0\n",
       "tmdb_id     8\n",
       "dtype: int64"
      ]
     },
     "execution_count": 51,
     "metadata": {},
     "output_type": "execute_result"
    }
   ],
   "source": [
    "df_links.isna().sum()"
   ]
  },
  {
   "cell_type": "markdown",
   "id": "c695db91-7a6a-49e2-a02a-dbae5b41d02b",
   "metadata": {},
   "source": [
    "# List of movies without any rating"
   ]
  },
  {
   "cell_type": "code",
   "execution_count": 64,
   "id": "1f2b6ebd-0ca7-492c-b1f3-75c79daf5e97",
   "metadata": {},
   "outputs": [
    {
     "data": {
      "text/html": [
       "<div>\n",
       "<style scoped>\n",
       "    .dataframe tbody tr th:only-of-type {\n",
       "        vertical-align: middle;\n",
       "    }\n",
       "\n",
       "    .dataframe tbody tr th {\n",
       "        vertical-align: top;\n",
       "    }\n",
       "\n",
       "    .dataframe thead th {\n",
       "        text-align: right;\n",
       "    }\n",
       "</style>\n",
       "<table border=\"1\" class=\"dataframe\">\n",
       "  <thead>\n",
       "    <tr style=\"text-align: right;\">\n",
       "      <th></th>\n",
       "      <th>movie_id</th>\n",
       "      <th>title</th>\n",
       "      <th>genres</th>\n",
       "      <th>user_id</th>\n",
       "      <th>rating</th>\n",
       "      <th>timestamp</th>\n",
       "    </tr>\n",
       "  </thead>\n",
       "  <tbody>\n",
       "    <tr>\n",
       "      <th>0</th>\n",
       "      <td>1076</td>\n",
       "      <td>Innocents, The (1961)</td>\n",
       "      <td>Drama|Horror|Thriller</td>\n",
       "      <td>NaN</td>\n",
       "      <td>NaN</td>\n",
       "      <td>NaN</td>\n",
       "    </tr>\n",
       "    <tr>\n",
       "      <th>1</th>\n",
       "      <td>2939</td>\n",
       "      <td>Niagara (1953)</td>\n",
       "      <td>Drama|Thriller</td>\n",
       "      <td>NaN</td>\n",
       "      <td>NaN</td>\n",
       "      <td>NaN</td>\n",
       "    </tr>\n",
       "    <tr>\n",
       "      <th>2</th>\n",
       "      <td>3338</td>\n",
       "      <td>For All Mankind (1989)</td>\n",
       "      <td>Documentary</td>\n",
       "      <td>NaN</td>\n",
       "      <td>NaN</td>\n",
       "      <td>NaN</td>\n",
       "    </tr>\n",
       "    <tr>\n",
       "      <th>3</th>\n",
       "      <td>3456</td>\n",
       "      <td>Color of Paradise, The (Rang-e khoda) (1999)</td>\n",
       "      <td>Drama</td>\n",
       "      <td>NaN</td>\n",
       "      <td>NaN</td>\n",
       "      <td>NaN</td>\n",
       "    </tr>\n",
       "    <tr>\n",
       "      <th>4</th>\n",
       "      <td>4194</td>\n",
       "      <td>I Know Where I'm Going! (1945)</td>\n",
       "      <td>Drama|Romance|War</td>\n",
       "      <td>NaN</td>\n",
       "      <td>NaN</td>\n",
       "      <td>NaN</td>\n",
       "    </tr>\n",
       "    <tr>\n",
       "      <th>5</th>\n",
       "      <td>5721</td>\n",
       "      <td>Chosen, The (1981)</td>\n",
       "      <td>Drama</td>\n",
       "      <td>NaN</td>\n",
       "      <td>NaN</td>\n",
       "      <td>NaN</td>\n",
       "    </tr>\n",
       "    <tr>\n",
       "      <th>6</th>\n",
       "      <td>6668</td>\n",
       "      <td>Road Home, The (Wo de fu qin mu qin) (1999)</td>\n",
       "      <td>Drama|Romance</td>\n",
       "      <td>NaN</td>\n",
       "      <td>NaN</td>\n",
       "      <td>NaN</td>\n",
       "    </tr>\n",
       "    <tr>\n",
       "      <th>7</th>\n",
       "      <td>6849</td>\n",
       "      <td>Scrooge (1970)</td>\n",
       "      <td>Drama|Fantasy|Musical</td>\n",
       "      <td>NaN</td>\n",
       "      <td>NaN</td>\n",
       "      <td>NaN</td>\n",
       "    </tr>\n",
       "    <tr>\n",
       "      <th>8</th>\n",
       "      <td>7020</td>\n",
       "      <td>Proof (1991)</td>\n",
       "      <td>Comedy|Drama|Romance</td>\n",
       "      <td>NaN</td>\n",
       "      <td>NaN</td>\n",
       "      <td>NaN</td>\n",
       "    </tr>\n",
       "    <tr>\n",
       "      <th>9</th>\n",
       "      <td>7792</td>\n",
       "      <td>Parallax View, The (1974)</td>\n",
       "      <td>Thriller</td>\n",
       "      <td>NaN</td>\n",
       "      <td>NaN</td>\n",
       "      <td>NaN</td>\n",
       "    </tr>\n",
       "    <tr>\n",
       "      <th>10</th>\n",
       "      <td>8765</td>\n",
       "      <td>This Gun for Hire (1942)</td>\n",
       "      <td>Crime|Film-Noir|Thriller</td>\n",
       "      <td>NaN</td>\n",
       "      <td>NaN</td>\n",
       "      <td>NaN</td>\n",
       "    </tr>\n",
       "    <tr>\n",
       "      <th>11</th>\n",
       "      <td>25855</td>\n",
       "      <td>Roaring Twenties, The (1939)</td>\n",
       "      <td>Crime|Drama|Thriller</td>\n",
       "      <td>NaN</td>\n",
       "      <td>NaN</td>\n",
       "      <td>NaN</td>\n",
       "    </tr>\n",
       "    <tr>\n",
       "      <th>12</th>\n",
       "      <td>26085</td>\n",
       "      <td>Mutiny on the Bounty (1962)</td>\n",
       "      <td>Adventure|Drama|Romance</td>\n",
       "      <td>NaN</td>\n",
       "      <td>NaN</td>\n",
       "      <td>NaN</td>\n",
       "    </tr>\n",
       "    <tr>\n",
       "      <th>13</th>\n",
       "      <td>30892</td>\n",
       "      <td>In the Realms of the Unreal (2004)</td>\n",
       "      <td>Animation|Documentary</td>\n",
       "      <td>NaN</td>\n",
       "      <td>NaN</td>\n",
       "      <td>NaN</td>\n",
       "    </tr>\n",
       "    <tr>\n",
       "      <th>14</th>\n",
       "      <td>32160</td>\n",
       "      <td>Twentieth Century (1934)</td>\n",
       "      <td>Comedy</td>\n",
       "      <td>NaN</td>\n",
       "      <td>NaN</td>\n",
       "      <td>NaN</td>\n",
       "    </tr>\n",
       "    <tr>\n",
       "      <th>15</th>\n",
       "      <td>32371</td>\n",
       "      <td>Call Northside 777 (1948)</td>\n",
       "      <td>Crime|Drama|Film-Noir</td>\n",
       "      <td>NaN</td>\n",
       "      <td>NaN</td>\n",
       "      <td>NaN</td>\n",
       "    </tr>\n",
       "    <tr>\n",
       "      <th>16</th>\n",
       "      <td>34482</td>\n",
       "      <td>Browning Version, The (1951)</td>\n",
       "      <td>Drama</td>\n",
       "      <td>NaN</td>\n",
       "      <td>NaN</td>\n",
       "      <td>NaN</td>\n",
       "    </tr>\n",
       "    <tr>\n",
       "      <th>17</th>\n",
       "      <td>85565</td>\n",
       "      <td>Chalet Girl (2011)</td>\n",
       "      <td>Comedy|Romance</td>\n",
       "      <td>NaN</td>\n",
       "      <td>NaN</td>\n",
       "      <td>NaN</td>\n",
       "    </tr>\n",
       "  </tbody>\n",
       "</table>\n",
       "</div>"
      ],
      "text/plain": [
       "    movie_id                                         title  \\\n",
       "0       1076                         Innocents, The (1961)   \n",
       "1       2939                                Niagara (1953)   \n",
       "2       3338                        For All Mankind (1989)   \n",
       "3       3456  Color of Paradise, The (Rang-e khoda) (1999)   \n",
       "4       4194                I Know Where I'm Going! (1945)   \n",
       "5       5721                            Chosen, The (1981)   \n",
       "6       6668   Road Home, The (Wo de fu qin mu qin) (1999)   \n",
       "7       6849                                Scrooge (1970)   \n",
       "8       7020                                  Proof (1991)   \n",
       "9       7792                     Parallax View, The (1974)   \n",
       "10      8765                      This Gun for Hire (1942)   \n",
       "11     25855                  Roaring Twenties, The (1939)   \n",
       "12     26085                   Mutiny on the Bounty (1962)   \n",
       "13     30892            In the Realms of the Unreal (2004)   \n",
       "14     32160                      Twentieth Century (1934)   \n",
       "15     32371                     Call Northside 777 (1948)   \n",
       "16     34482                  Browning Version, The (1951)   \n",
       "17     85565                            Chalet Girl (2011)   \n",
       "\n",
       "                      genres  user_id  rating  timestamp  \n",
       "0      Drama|Horror|Thriller      NaN     NaN        NaN  \n",
       "1             Drama|Thriller      NaN     NaN        NaN  \n",
       "2                Documentary      NaN     NaN        NaN  \n",
       "3                      Drama      NaN     NaN        NaN  \n",
       "4          Drama|Romance|War      NaN     NaN        NaN  \n",
       "5                      Drama      NaN     NaN        NaN  \n",
       "6              Drama|Romance      NaN     NaN        NaN  \n",
       "7      Drama|Fantasy|Musical      NaN     NaN        NaN  \n",
       "8       Comedy|Drama|Romance      NaN     NaN        NaN  \n",
       "9                   Thriller      NaN     NaN        NaN  \n",
       "10  Crime|Film-Noir|Thriller      NaN     NaN        NaN  \n",
       "11      Crime|Drama|Thriller      NaN     NaN        NaN  \n",
       "12   Adventure|Drama|Romance      NaN     NaN        NaN  \n",
       "13     Animation|Documentary      NaN     NaN        NaN  \n",
       "14                    Comedy      NaN     NaN        NaN  \n",
       "15     Crime|Drama|Film-Noir      NaN     NaN        NaN  \n",
       "16                     Drama      NaN     NaN        NaN  \n",
       "17            Comedy|Romance      NaN     NaN        NaN  "
      ]
     },
     "execution_count": 64,
     "metadata": {},
     "output_type": "execute_result"
    }
   ],
   "source": [
    "df_movie_rating[df_movie_rating.user_id.isna()].reset_index(drop=True)"
   ]
  },
  {
   "cell_type": "markdown",
   "id": "3b00ef03-6b92-4b5a-81a4-ac2165c7b8d8",
   "metadata": {},
   "source": [
    "## Movies without year"
   ]
  },
  {
   "cell_type": "code",
   "execution_count": 72,
   "id": "3eec747c-cb24-4e0e-91b5-23fe8fac1e66",
   "metadata": {},
   "outputs": [
    {
     "name": "stdout",
     "output_type": "stream",
     "text": [
      "Movies without year in the title: 13\n"
     ]
    }
   ],
   "source": [
    "print(f\"Movies without year in the title: {df_movies.title.apply(extract_year).isna().sum()}\")"
   ]
  },
  {
   "cell_type": "code",
   "execution_count": 73,
   "id": "406298a3-960d-4fd1-9bee-485fa195307f",
   "metadata": {},
   "outputs": [
    {
     "data": {
      "text/html": [
       "<div>\n",
       "<style scoped>\n",
       "    .dataframe tbody tr th:only-of-type {\n",
       "        vertical-align: middle;\n",
       "    }\n",
       "\n",
       "    .dataframe tbody tr th {\n",
       "        vertical-align: top;\n",
       "    }\n",
       "\n",
       "    .dataframe thead th {\n",
       "        text-align: right;\n",
       "    }\n",
       "</style>\n",
       "<table border=\"1\" class=\"dataframe\">\n",
       "  <thead>\n",
       "    <tr style=\"text-align: right;\">\n",
       "      <th></th>\n",
       "      <th>movie_id</th>\n",
       "      <th>title</th>\n",
       "      <th>genres</th>\n",
       "    </tr>\n",
       "  </thead>\n",
       "  <tbody>\n",
       "    <tr>\n",
       "      <th>6059</th>\n",
       "      <td>40697</td>\n",
       "      <td>Babylon 5</td>\n",
       "      <td>Sci-Fi</td>\n",
       "    </tr>\n",
       "    <tr>\n",
       "      <th>9031</th>\n",
       "      <td>140956</td>\n",
       "      <td>Ready Player One</td>\n",
       "      <td>Action|Sci-Fi|Thriller</td>\n",
       "    </tr>\n",
       "    <tr>\n",
       "      <th>9091</th>\n",
       "      <td>143410</td>\n",
       "      <td>Hyena Road</td>\n",
       "      <td>(no genres listed)</td>\n",
       "    </tr>\n",
       "    <tr>\n",
       "      <th>9138</th>\n",
       "      <td>147250</td>\n",
       "      <td>The Adventures of Sherlock Holmes and Doctor W...</td>\n",
       "      <td>(no genres listed)</td>\n",
       "    </tr>\n",
       "    <tr>\n",
       "      <th>9179</th>\n",
       "      <td>149334</td>\n",
       "      <td>Nocturnal Animals</td>\n",
       "      <td>Drama|Thriller</td>\n",
       "    </tr>\n",
       "    <tr>\n",
       "      <th>9259</th>\n",
       "      <td>156605</td>\n",
       "      <td>Paterson</td>\n",
       "      <td>(no genres listed)</td>\n",
       "    </tr>\n",
       "    <tr>\n",
       "      <th>9367</th>\n",
       "      <td>162414</td>\n",
       "      <td>Moonlight</td>\n",
       "      <td>Drama</td>\n",
       "    </tr>\n",
       "    <tr>\n",
       "      <th>9448</th>\n",
       "      <td>167570</td>\n",
       "      <td>The OA</td>\n",
       "      <td>(no genres listed)</td>\n",
       "    </tr>\n",
       "    <tr>\n",
       "      <th>9514</th>\n",
       "      <td>171495</td>\n",
       "      <td>Cosmos</td>\n",
       "      <td>(no genres listed)</td>\n",
       "    </tr>\n",
       "    <tr>\n",
       "      <th>9515</th>\n",
       "      <td>171631</td>\n",
       "      <td>Maria Bamford: Old Baby</td>\n",
       "      <td>(no genres listed)</td>\n",
       "    </tr>\n",
       "    <tr>\n",
       "      <th>9518</th>\n",
       "      <td>171749</td>\n",
       "      <td>Death Note: Desu nôto (2006–2007)</td>\n",
       "      <td>(no genres listed)</td>\n",
       "    </tr>\n",
       "    <tr>\n",
       "      <th>9525</th>\n",
       "      <td>171891</td>\n",
       "      <td>Generation Iron 2</td>\n",
       "      <td>(no genres listed)</td>\n",
       "    </tr>\n",
       "    <tr>\n",
       "      <th>9611</th>\n",
       "      <td>176601</td>\n",
       "      <td>Black Mirror</td>\n",
       "      <td>(no genres listed)</td>\n",
       "    </tr>\n",
       "  </tbody>\n",
       "</table>\n",
       "</div>"
      ],
      "text/plain": [
       "      movie_id                                              title  \\\n",
       "6059     40697                                          Babylon 5   \n",
       "9031    140956                                   Ready Player One   \n",
       "9091    143410                                         Hyena Road   \n",
       "9138    147250  The Adventures of Sherlock Holmes and Doctor W...   \n",
       "9179    149334                                  Nocturnal Animals   \n",
       "9259    156605                                           Paterson   \n",
       "9367    162414                                          Moonlight   \n",
       "9448    167570                                             The OA   \n",
       "9514    171495                                             Cosmos   \n",
       "9515    171631                            Maria Bamford: Old Baby   \n",
       "9518    171749                  Death Note: Desu nôto (2006–2007)   \n",
       "9525    171891                                  Generation Iron 2   \n",
       "9611    176601                                       Black Mirror   \n",
       "\n",
       "                      genres  \n",
       "6059                  Sci-Fi  \n",
       "9031  Action|Sci-Fi|Thriller  \n",
       "9091      (no genres listed)  \n",
       "9138      (no genres listed)  \n",
       "9179          Drama|Thriller  \n",
       "9259      (no genres listed)  \n",
       "9367                   Drama  \n",
       "9448      (no genres listed)  \n",
       "9514      (no genres listed)  \n",
       "9515      (no genres listed)  \n",
       "9518      (no genres listed)  \n",
       "9525      (no genres listed)  \n",
       "9611      (no genres listed)  "
      ]
     },
     "execution_count": 73,
     "metadata": {},
     "output_type": "execute_result"
    }
   ],
   "source": [
    "df_movies[df_movies.title.apply(extract_year).isna()]"
   ]
  },
  {
   "cell_type": "markdown",
   "id": "2e7eda19-0e30-4a5e-a2cb-b9830bf2b962",
   "metadata": {},
   "source": [
    "## Movie genre distribution"
   ]
  },
  {
   "cell_type": "code",
   "execution_count": 93,
   "id": "a7c3d38d-08cc-458a-9709-fe0b0cca245b",
   "metadata": {},
   "outputs": [
    {
     "data": {
      "image/png": "[encoded data removed]",
      "text/plain": [
       "<Figure size 640x480 with 1 Axes>"
      ]
     },
     "metadata": {},
     "output_type": "display_data"
    }
   ],
   "source": [
    "split_movie_genres(df_movies).drop(columns=['title' ,'movie_id']).sum().sort_values().plot.barh()\n",
    "plt.title('# Movies by Genre')\n",
    "plt.xlabel('# Movies')\n",
    "plt.ylabel('Genre')\n",
    "plt.show()"
   ]
  }
 ],
 "metadata": {
  "kernelspec": {
   "display_name": "Python 3 (ipykernel)",
   "language": "python",
   "name": "python3"
  },
  "language_info": {
   "codemirror_mode": {
    "name": "ipython",
    "version": 3
   },
   "file_extension": ".py",
   "mimetype": "text/x-python",
   "name": "python",
   "nbconvert_exporter": "python",
   "pygments_lexer": "ipython3",
   "version": "3.12.4"
  }
 },
 "nbformat": 4,
 "nbformat_minor": 5
}
